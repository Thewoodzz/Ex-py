{
  "cells": [
    {
      "cell_type": "markdown",
      "metadata": {
        "id": "lh5FCE4-l4VQ"
      },
      "source": [
        "\n",
        "ex-1\n",
        "---\n",
        "\n"
      ]
    },
    {
      "cell_type": "code",
      "execution_count": null,
      "metadata": {
        "colab": {
          "base_uri": "https://localhost:8080/"
        },
        "id": "aGdwGNNyl0aW",
        "outputId": "a3d76a28-7544-488d-ed62-3ef9f550171f"
      },
      "outputs": [
        {
          "name": "stdout",
          "output_type": "stream",
          "text": [
            "digite um numero10\n",
            "digite um numero 10\n",
            "20,numero valido\n"
          ]
        }
      ],
      "source": [
        "x = int(input(\"digite um numero\"))\n",
        "y = int(input(\"digite um numero \"))\n",
        "\n",
        "valor = x + y\n",
        "\n",
        "if(valor >= 15):\n",
        "  print(f\"{valor},numero valido\")"
      ]
    },
    {
      "cell_type": "markdown",
      "metadata": {
        "id": "0WOj9KA1ob73"
      },
      "source": [
        "ex 2"
      ]
    },
    {
      "cell_type": "code",
      "execution_count": null,
      "metadata": {
        "colab": {
          "base_uri": "https://localhost:8080/"
        },
        "id": "ZQcgZ7zmnOxv",
        "outputId": "06371010-1ab7-4370-d5eb-af48e7b53ddf"
      },
      "outputs": [
        {
          "name": "stdout",
          "output_type": "stream",
          "text": [
            "digite um numero 8\n",
            "numero positivo \n"
          ]
        }
      ],
      "source": [
        "x = int(input(\"digite um numero \"))\n",
        "\n",
        "if(x > 0):\n",
        "  print(\"numero positivo \")\n",
        "elif(x == 0):\n",
        "  print(\"numero neutro \")\n",
        "else:\n",
        "  print(\"numero negativo \")"
      ]
    },
    {
      "cell_type": "markdown",
      "metadata": {
        "id": "hb_gFjz9od6L"
      },
      "source": [
        "ex 3"
      ]
    },
    {
      "cell_type": "code",
      "execution_count": null,
      "metadata": {
        "colab": {
          "base_uri": "https://localhost:8080/"
        },
        "id": "O1QU4TkuoazW",
        "outputId": "40eca38f-47d6-469f-b608-7becdbe2fbd3"
      },
      "outputs": [
        {
          "name": "stdout",
          "output_type": "stream",
          "text": [
            "digite sua idade3\n",
            "menor de idade\n"
          ]
        }
      ],
      "source": [
        "x = int(input(\"digite sua idade\"))\n",
        "\n",
        "if(x >= 18):\n",
        "  print(\"Maior de idade \")\n",
        "else:\n",
        "  print(\"menor de idade \")"
      ]
    },
    {
      "cell_type": "markdown",
      "metadata": {
        "id": "34rScjBPo0kO"
      },
      "source": [
        "ex 4"
      ]
    },
    {
      "cell_type": "code",
      "execution_count": null,
      "metadata": {
        "colab": {
          "base_uri": "https://localhost:8080/"
        },
        "id": "Wi896mmHo20Z",
        "outputId": "1e59620a-0e73-44ee-c954-296482dbe07e"
      },
      "outputs": [
        {
          "name": "stdout",
          "output_type": "stream",
          "text": [
            "digite a temperatura atual0\n",
            "temperatura esta fria\n"
          ]
        }
      ],
      "source": [
        "x = int(input(\"digite a temperatura atual\"))\n",
        "\n",
        "if(x >=25):\n",
        "  print(\"temperatura esta quente \")\n",
        "elif(x >=16):\n",
        "  print(\"temperatura esta agradavel\")\n",
        "else:\n",
        "  print(\"temperatura esta fria\")"
      ]
    },
    {
      "cell_type": "markdown",
      "metadata": {
        "id": "Q-yfnHaxpjhu"
      },
      "source": [
        "ex 5"
      ]
    },
    {
      "cell_type": "code",
      "execution_count": null,
      "metadata": {
        "colab": {
          "base_uri": "https://localhost:8080/"
        },
        "id": "uWcz93IDploj",
        "outputId": "198d9293-72fb-4f0b-849b-dd4dca4d426b"
      },
      "outputs": [
        {
          "name": "stdout",
          "output_type": "stream",
          "text": [
            "digite um numero 1\n",
            "digite um numero 2\n",
            "os numeros sao diferentes\n"
          ]
        }
      ],
      "source": [
        "x = int(input(\"digite um numero \"))\n",
        "y = int(input(\"digite um numero \"))\n",
        "\n",
        "if(x == y):\n",
        "  print(\"os numeros são iguais\")\n",
        "else:\n",
        "  print(\"os numeros sao diferentes\")"
      ]
    },
    {
      "cell_type": "markdown",
      "metadata": {
        "id": "Qv-QoNvMqKRy"
      },
      "source": [
        "ex 6"
      ]
    },
    {
      "cell_type": "code",
      "execution_count": null,
      "metadata": {
        "colab": {
          "base_uri": "https://localhost:8080/"
        },
        "id": "oyPcAj2fqMFn",
        "outputId": "78688d08-e916-4b54-a15d-39b663792f28"
      },
      "outputs": [
        {
          "name": "stdout",
          "output_type": "stream",
          "text": [
            "digite sua senha 1234\n",
            "ACESSO LIBERADO\n"
          ]
        }
      ],
      "source": [
        "x = int(input(\"digite sua senha \"))\n",
        "\n",
        "if(x== 1234):\n",
        "  print(\"ACESSO LIBERADO\")\n",
        "else:\n",
        "  print(\"ACESSO NEGADO\")"
      ]
    },
    {
      "cell_type": "markdown",
      "metadata": {
        "id": "iTwkCp2xrZas"
      },
      "source": [
        "EX 7\n"
      ]
    },
    {
      "cell_type": "code",
      "execution_count": null,
      "metadata": {
        "colab": {
          "base_uri": "https://localhost:8080/"
        },
        "id": "nbIKBeRUraji",
        "outputId": "6872846d-1b4d-41a4-8de0-9370c9d1d944"
      },
      "outputs": [
        {
          "name": "stdout",
          "output_type": "stream",
          "text": [
            "digite e primeira nota8\n",
            "digite a segunda nota8\n",
            "aprovado! media 8.0\n"
          ]
        }
      ],
      "source": [
        "nota1 = float(input(\"digite e primeira nota\"))\n",
        "nota2 = float(input(\"digite a segunda nota\"))\n",
        "\n",
        "\n",
        "media = (nota1 + nota2) /2\n",
        "\n",
        "if(media >=7):\n",
        "  print(f\"aprovado! media {media:}\")\n",
        "\n",
        "elif (media >=5):\n",
        "  print(f\"o aluno esta de recuperação! media {media:}\")\n",
        "\n",
        "else: print(f\"reprovado! media {media:}\")"
      ]
    },
    {
      "cell_type": "markdown",
      "metadata": {
        "id": "2cxP8dTVro7f"
      },
      "source": [
        "ex 8\n"
      ]
    },
    {
      "cell_type": "code",
      "execution_count": null,
      "metadata": {
        "colab": {
          "base_uri": "https://localhost:8080/"
        },
        "id": "shK3ijRUrxWg",
        "outputId": "03bc79da-ca56-409b-8d56-d359e345bec0"
      },
      "outputs": [
        {
          "name": "stdout",
          "output_type": "stream",
          "text": [
            "digite o gols de um time1\n",
            "digite o gols do time adversario8\n",
            "time adversario venceu\n"
          ]
        }
      ],
      "source": [
        "x = int(input(\"digite o gols de um time \"))\n",
        "y = int(input(\"digite o gols do time adversario \"))\n",
        "\n",
        "if(x > y):\n",
        "  print(\"time 1 venceu \")\n",
        "elif( x == y):\n",
        "  print(\"empate \")\n",
        "else:\n",
        "  print(\"time adversario venceu \")"
      ]
    },
    {
      "cell_type": "markdown",
      "metadata": {
        "id": "2mDT4N7jsZAw"
      },
      "source": [
        "ex 9"
      ]
    },
    {
      "cell_type": "code",
      "execution_count": null,
      "metadata": {
        "id": "hq4Vt1KisZxh"
      },
      "outputs": [],
      "source": [
        "x = str(input(\"digite em qual turno voce estuda M=manhã   V=Tarde   N=noite\"))\n",
        "\n",
        "if(x == \"M\"):\n",
        "  print(\"bom dia!\")\n",
        "elif(x == \"V\"):\n",
        "  print(\"boa tarde!\")\n",
        "elif(x == \"N\"):\n",
        "  print(\"boa noite!\")\n",
        "else:\n",
        "  print(\"numero invalido\")"
      ]
    },
    {
      "cell_type": "markdown",
      "metadata": {
        "id": "eNenWNWuuqWi"
      },
      "source": [
        "ex 10"
      ]
    },
    {
      "cell_type": "code",
      "execution_count": null,
      "metadata": {
        "id": "rqxehB38urns"
      },
      "outputs": [],
      "source": [
        "x = int(input(\"digite sua idade\"))\n",
        "\n",
        "if( x <= 11 ):\n",
        "  print(\"criança\")\n",
        "elif( x <= 18):\n",
        "  print(\"adolescente\")\n",
        "elif( x <= 24):\n",
        "  print(\"jovem\")\n",
        "elif( x <= 40):\n",
        "  print(\"adulto\")\n",
        "elif( x <= 60):\n",
        "  print(\"meia-idade\")\n",
        "else:\n",
        "  print(\"idoso\")"
      ]
    },
    {
      "cell_type": "markdown",
      "metadata": {
        "id": "ECmTLkejvsLq"
      },
      "source": [
        "ex 11"
      ]
    },
    {
      "cell_type": "code",
      "execution_count": null,
      "metadata": {
        "colab": {
          "base_uri": "https://localhost:8080/"
        },
        "id": "m4G2CUmGvtPW",
        "outputId": "3cfc1723-bf97-40f4-9743-f5da402c3212"
      },
      "outputs": [
        {
          "name": "stdout",
          "output_type": "stream",
          "text": [
            "Digite o salário atual3000\n",
            "Resumo do Reajuste:\n",
            "Salário antes do reajuste: R$ 3000.00\n",
            "Percentual de aumento aplicado: 5%\n",
            "Valor do aumento: R$ 150.00\n",
            "Novo salário, após o aumento: R$ 3150.00\n"
          ]
        }
      ],
      "source": [
        "\n",
        "x = float(input(\"Digite o salário atual \"))\n",
        "\n",
        "\n",
        "if (x <= 280):\n",
        "  y = 20\n",
        "elif(x <=700):\n",
        "   y = 15\n",
        "elif(x <=1500):\n",
        "  y=10\n",
        "elif(x >=1500):\n",
        "  y=5\n",
        "\n",
        "\n",
        "aumento = x * (y / 100)\n",
        "novo_salario = x + aumento\n",
        "\n",
        "\n",
        "print(\"Resumo do Reajuste: \")\n",
        "print(f\"Salário antes do reajuste: R$ {x:.2f} \")\n",
        "print(f\"Percentual de aumento aplicado: {y}% \")\n",
        "print(f\"Valor do aumento: R$ {aumento:.2f} \")\n",
        "print(f\"Novo salário, após o aumento: R$ {novo_salario:.2f} \")"
      ]
    },
    {
      "cell_type": "markdown",
      "metadata": {
        "id": "NvRloCaG0Afw"
      },
      "source": [
        "ex 12"
      ]
    },
    {
      "cell_type": "code",
      "execution_count": 3,
      "metadata": {
        "colab": {
          "base_uri": "https://localhost:8080/",
          "height": 0
        },
        "id": "6kmrZVOV0BxY",
        "outputId": "a84449b0-80e4-40d7-8af7-1d688ff0ef32"
      },
      "outputs": [
        {
          "name": "stdout",
          "output_type": "stream",
          "text": [
            "digite o numero da semana1\n",
            "Dia 1, Domingo\n"
          ]
        }
      ],
      "source": [
        "x = int(input(\"digite o numero da semana \"))\n",
        "\n",
        "if(x==1):\n",
        "  print(\"Dia 1, Domingo\")\n",
        "elif(x==2):\n",
        "  print(\"Dia 2, Segunda-feira\")\n",
        "elif(x==3):\n",
        "  print(\"Dia 3, Terça-feira\")\n",
        "elif(x==4):\n",
        "  print(\"Dia 4, Quarta-feira\")\n",
        "elif(x==5):\n",
        "  print(\"Dia 5, Quinta-feira\")\n",
        "elif(x==6):\n",
        "  print(\"Dia 6, Sexta-feira\")\n",
        "elif(x==7):\n",
        "  print(\"Dia 7, Sabado\")\n"
      ]
    },
    {
      "cell_type": "markdown",
      "metadata": {
        "id": "ryDA3RdQGzze"
      },
      "source": [
        "ex 13"
      ]
    },
    {
      "cell_type": "code",
      "execution_count": 12,
      "metadata": {
        "colab": {
          "base_uri": "https://localhost:8080/",
          "height": 0
        },
        "id": "-SI3u66YGzmz",
        "outputId": "7a58521c-3e04-456c-e408-1316ef180a13"
      },
      "outputs": [
        {
          "name": "stdout",
          "output_type": "stream",
          "text": [
            "digite o tipo de temperatura atualcelsius\n",
            "digite a temperatura atual25\n",
            "77.0\n"
          ]
        }
      ],
      "source": [
        "x = str(input(\"digite o tipo de temperatura atual\"))\n",
        "y = float(input(\"digite a temperatura atual\"))\n",
        "\n",
        "if(x == \"fahrenheit\"):\n",
        " z = (y-32)*5/9\n",
        "elif(x == \"celsius\"):\n",
        " z = ( y * 1.8 ) + 32\n",
        "\n",
        "print(f\"{z}\")\n",
        "\n"
      ]
    },
    {
      "cell_type": "markdown",
      "metadata": {
        "id": "O9mnXFS2Kjon"
      },
      "source": [
        "ex 14"
      ]
    },
    {
      "cell_type": "code",
      "execution_count": 16,
      "metadata": {
        "colab": {
          "base_uri": "https://localhost:8080/",
          "height": 0
        },
        "id": "LBpWj6bvKjd0",
        "outputId": "ab2a40c4-c988-4c98-8859-1865c8cb64eb"
      },
      "outputs": [
        {
          "name": "stdout",
          "output_type": "stream",
          "text": [
            "digite sua idade 78\n",
            "optativo\n"
          ]
        }
      ],
      "source": [
        "x = int(input(\"digite sua idade \"))\n",
        "\n",
        "if(x <= 16 ):\n",
        "  print(\"proibido para votar\")\n",
        "elif(x <= 18):\n",
        "  print(\"optativo\")\n",
        "elif(x <= 65):\n",
        "  print(\"Obrigatorio\")\n",
        "elif(x > 65):\n",
        "  print(\"optativo\")"
      ]
    },
    {
      "cell_type": "markdown",
      "metadata": {
        "id": "tEiWZangLgPz"
      },
      "source": [
        "ex 15 - 16"
      ]
    },
    {
      "cell_type": "code",
      "execution_count": 43,
      "metadata": {
        "colab": {
          "base_uri": "https://localhost:8080/",
          "height": 0
        },
        "id": "neUR94KELhRf",
        "outputId": "18a4b53a-edad-4924-d82e-a6bb8d113a37"
      },
      "outputs": [
        {
          "name": "stdout",
          "output_type": "stream",
          "text": [
            "Telefonou para a vítima? s\n",
            "Esteve no local do crime? s\n",
            " Mora perto da vítima? s\n",
            " Devia para a vítima? S\n",
            "Já trabalhou com a vítima? s\n",
            "assasino\n"
          ]
        }
      ],
      "source": [
        "sim = 0\n",
        "nao = 0\n",
        "\n",
        "x = str(input(\"Telefonou para a vítima? \"))\n",
        "if(x.lower() == \"s\"):\n",
        "  sim += 1\n",
        "elif(x.lower() == \"n\"):\n",
        "  nao += 1\n",
        "else:\n",
        "  print(\"entrada invalida\")\n",
        "\n",
        "x = str(input(\"Esteve no local do crime? \"))\n",
        "if(x.lower() == \"s\"):\n",
        "  sim += 1\n",
        "elif(x.lower() == \"n\"):\n",
        "  nao += 1\n",
        "else:\n",
        "  print(\"entrada invalida\")\n",
        "\n",
        "x = str(input(\" Mora perto da vítima? \"))\n",
        "if(x.lower() == \"s\"):\n",
        "  sim += 1\n",
        "elif(x.lower() == \"n\"):\n",
        "  nao += 1\n",
        "else:\n",
        "  print(\"entrada invalida\")\n",
        "\n",
        "x = str(input(\" Devia para a vítima? \"))\n",
        "if(x.lower() == \"s\"):\n",
        "  sim += 1\n",
        "elif(x.lower() == \"n\"):\n",
        "  nao += 1\n",
        "else:\n",
        "  print(\"entrada invalida\")\n",
        "\n",
        "x = str(input(\"Já trabalhou com a vítima? \"))\n",
        "if(x.lower() == \"s\"):\n",
        "  sim += 1\n",
        "elif(x.lower() == \"n\"):\n",
        "  nao += 1\n",
        "else:\n",
        "  print(\"entrada invalida\")\n",
        "\n",
        "\n",
        "if(sim <= 2):\n",
        "  print(\"suspeito\")\n",
        "elif(sim <= 4):\n",
        "  print(\"cumplice\")\n",
        "elif(sim == 5):\n",
        "  print(\"assasino\")"
      ]
    },
    {
      "cell_type": "markdown",
      "metadata": {
        "id": "CYm9Hk81SumS"
      },
      "source": [
        "ex 17"
      ]
    },
    {
      "cell_type": "code",
      "execution_count": 1,
      "metadata": {
        "colab": {
          "base_uri": "https://localhost:8080/",
          "height": 0
        },
        "id": "fjoakVtGSs9L",
        "outputId": "a2740ecf-f051-44ae-b0ae-4e1168bd72d7"
      },
      "outputs": [
        {
          "name": "stdout",
          "output_type": "stream",
          "text": [
            "escolha o primeiro produto\n"
          ]
        }
      ],
      "source": [
        "x = float(input(\"digite o preço do primeiro produto \"))\n",
        "y = float(input(\"digite o preço do segundo produto \"))\n",
        "z = float(input(\"digite o preço do terceiro produto \"))\n",
        "\n",
        "if (x < y and x < z):\n",
        "  print(\"escolha o primeiro produto\")\n",
        "elif (y < x and y < z):\n",
        "  print(\"escolha o segundo produto\")\n",
        "elif (z < x and z < y):\n",
        "  print(\"escolha o terceiro produto\")"
      ]
    }
  ],
  "metadata": {
    "colab": {
      "provenance": []
    },
    "kernelspec": {
      "display_name": "Python 3",
      "name": "python3"
    },
    "language_info": {
      "codemirror_mode": {
        "name": "ipython",
        "version": 3
      },
      "file_extension": ".py",
      "mimetype": "text/x-python",
      "name": "python",
      "nbconvert_exporter": "python",
      "pygments_lexer": "ipython3",
      "version": "3.12.1"
    }
  },
  "nbformat": 4,
  "nbformat_minor": 0
}
