{
  "nbformat": 4,
  "nbformat_minor": 0,
  "metadata": {
    "colab": {
      "provenance": []
    },
    "kernelspec": {
      "name": "python3",
      "display_name": "Python 3"
    },
    "language_info": {
      "name": "python"
    }
  },
  "cells": [
    {
      "cell_type": "markdown",
      "source": [
        "ex 1"
      ],
      "metadata": {
        "id": "YlNnHXVTRJqX"
      }
    },
    {
      "cell_type": "code",
      "execution_count": null,
      "metadata": {
        "id": "fGLKSOH-Qlze"
      },
      "outputs": [],
      "source": [
        "for cont in range(0,101):\n",
        "  print(\"tijolo \", cont)"
      ]
    },
    {
      "cell_type": "markdown",
      "source": [
        "ex 2"
      ],
      "metadata": {
        "id": "0zZAkuCrRLPQ"
      }
    },
    {
      "cell_type": "code",
      "source": [
        "for cont in range(0,51,2):\n",
        "  print(\"poste \", cont)"
      ],
      "metadata": {
        "id": "x6uBbFvORMG8"
      },
      "execution_count": null,
      "outputs": []
    },
    {
      "cell_type": "markdown",
      "source": [
        "ex 3"
      ],
      "metadata": {
        "id": "6t-hGPL2RbeE"
      }
    },
    {
      "cell_type": "code",
      "source": [
        "for cont in range(1,101,2):\n",
        "  print(\"jogador \", cont)"
      ],
      "metadata": {
        "id": "QS0BS-70RcmU"
      },
      "execution_count": null,
      "outputs": []
    },
    {
      "cell_type": "markdown",
      "source": [
        "ex 4"
      ],
      "metadata": {
        "id": "8Ui4eHzHRsKU"
      }
    },
    {
      "cell_type": "code",
      "source": [
        "soma = 0\n",
        "for cont in range(5):\n",
        "  num1 = float(input(\"digite a quantia: \"))\n",
        "  soma += num1\n",
        "media = soma/5\n",
        "print(\"quantia total =\", soma)\n",
        "print(\"media = \", media)"
      ],
      "metadata": {
        "id": "fDu04Q0MRtL2"
      },
      "execution_count": null,
      "outputs": []
    },
    {
      "cell_type": "markdown",
      "source": [
        "ex 5"
      ],
      "metadata": {
        "id": "mXYNIiagSzzz"
      }
    },
    {
      "cell_type": "code",
      "source": [
        "for cont in range(0,11):\n",
        "  if(cont == 0,2,4,6,8,10):\n",
        "    print(\"par\", cont)\n",
        "  elif(cont == 1,3,5,7,9):\n",
        "    print(\"impar\")"
      ],
      "metadata": {
        "id": "nbxCmvioTFip"
      },
      "execution_count": null,
      "outputs": []
    },
    {
      "cell_type": "code",
      "source": [
        "\n",
        "pares = 0\n",
        "impares = 0\n",
        "for num in range(1,11):\n",
        "    if num % 2 == 0:\n",
        "        pares += 1\n",
        "    else:\n",
        "        impares += 1\n",
        "print(\"Quantidade de números pares: \", pares)\n",
        "print(\"Quantidade de números ímpares: \", impares)"
      ],
      "metadata": {
        "id": "UmoJUlTxV_gh"
      },
      "execution_count": null,
      "outputs": []
    },
    {
      "cell_type": "markdown",
      "source": [
        "ex 6"
      ],
      "metadata": {
        "id": "JMJcswcnW3qX"
      }
    },
    {
      "cell_type": "code",
      "source": [
        "num = int(input(\"digite um numero \"))\n",
        "for cont in range(1,11):\n",
        "  resultado = num*cont\n",
        "  print(f\"{num} x {cont} = {resultado}\")"
      ],
      "metadata": {
        "id": "yoJ1uujwW45p"
      },
      "execution_count": null,
      "outputs": []
    },
    {
      "cell_type": "markdown",
      "source": [
        "ex 7"
      ],
      "metadata": {
        "id": "qwERBTGGYGX7"
      }
    },
    {
      "cell_type": "code",
      "source": [
        "\n",
        "for cont in range(1,11):\n",
        "  print(f\"tabuada do {cont}\") #exibição\n",
        "  for num in range(1,11):\n",
        "   resultado = num*cont\n",
        "   print(f\"{num} x {cont} = {resultado}\")\n"
      ],
      "metadata": {
        "id": "rgPpRbxBYHlK"
      },
      "execution_count": null,
      "outputs": []
    },
    {
      "cell_type": "markdown",
      "source": [
        "ex 8"
      ],
      "metadata": {
        "id": "19alWe2EZwa9"
      }
    },
    {
      "cell_type": "code",
      "source": [
        "for cont in range(1,21):\n",
        "  print(cont)\n",
        "print()\n",
        "for cont in range(1,21):\n",
        "  print(cont, end=' ')"
      ],
      "metadata": {
        "id": "y7U6Z04-ZxZM"
      },
      "execution_count": null,
      "outputs": []
    },
    {
      "cell_type": "markdown",
      "source": [
        "ex 9"
      ],
      "metadata": {
        "id": "cx3HsNIcazkF"
      }
    },
    {
      "cell_type": "code",
      "source": [
        "for cont in range(1,51,2):\n",
        "  print(\"livro ID \", cont)"
      ],
      "metadata": {
        "id": "sN1HahGxa0ZQ"
      },
      "execution_count": null,
      "outputs": []
    },
    {
      "cell_type": "markdown",
      "source": [
        "ex 10"
      ],
      "metadata": {
        "id": "H6ljXp_Ibbkv"
      }
    },
    {
      "cell_type": "code",
      "source": [
        "x = int(input(\"digite um numero\"))\n",
        "y = int(input(\"digite um numero\"))\n",
        "\n",
        "for cont in range(x,y):\n",
        "  print(cont)"
      ],
      "metadata": {
        "colab": {
          "base_uri": "https://localhost:8080/"
        },
        "id": "2DJMUcIebcjc",
        "outputId": "e344436f-3657-4269-b9db-d23a1a83809b"
      },
      "execution_count": 93,
      "outputs": [
        {
          "name": "stdout",
          "output_type": "stream",
          "text": [
            "digite um numero10\n",
            "digite um numero1\n"
          ]
        }
      ]
    },
    {
      "cell_type": "markdown",
      "source": [
        "ex 11"
      ],
      "metadata": {
        "id": "vWMGiSV6b9zv"
      }
    },
    {
      "cell_type": "code",
      "source": [
        "y = 0\n",
        "for cont in range(5):\n",
        "  x = float(input(\"digite o valor das vendas\"))\n",
        "  y += x\n",
        "if(y > 54000):\n",
        "  print(\"o valor passou de R$54.000\")\n",
        "  z = y - 54000\n",
        "  print(f\"valor ultrapassado R${z:.3f}\")\n",
        "elif(y == 54000):\n",
        "  print(\" voce faturou R$54000\")\n",
        "else:\n",
        "  print(\"voce nao bateu o faturamento esperado\")"
      ],
      "metadata": {
        "colab": {
          "base_uri": "https://localhost:8080/"
        },
        "id": "Hw_YoBTCb-pP",
        "outputId": "d1966e73-e3a5-4338-f59c-ed95812ffc39"
      },
      "execution_count": 109,
      "outputs": [
        {
          "output_type": "stream",
          "name": "stdout",
          "text": [
            "digite o valor das vendas0\n",
            "digite o valor das vendas0\n",
            "digite o valor das vendas0\n",
            "digite o valor das vendas0\n",
            "digite o valor das vendas0\n",
            "voce nao bateu o faturamento esperado\n"
          ]
        }
      ]
    },
    {
      "cell_type": "markdown",
      "source": [
        "ex 12"
      ],
      "metadata": {
        "id": "RSz63Xw_j7hw"
      }
    },
    {
      "cell_type": "code",
      "source": [
        "print(\"robos correndo\")\n",
        "for robos in range(0,21, 2):\n",
        "  print(robos, end= ' ')"
      ],
      "metadata": {
        "colab": {
          "base_uri": "https://localhost:8080/"
        },
        "id": "fXS8UvSjj7EM",
        "outputId": "a7572a02-9943-47c6-a15e-5baaafc70f2a"
      },
      "execution_count": 113,
      "outputs": [
        {
          "output_type": "stream",
          "name": "stdout",
          "text": [
            "robos correndo\n",
            "0 2 4 6 8 10 12 14 16 18 20 "
          ]
        }
      ]
    },
    {
      "cell_type": "markdown",
      "source": [
        "ex 13"
      ],
      "metadata": {
        "id": "GcKEyDY46Abp"
      }
    },
    {
      "cell_type": "code",
      "source": [
        "for cont in range(1000,2001):\n",
        "  if cont % 11 == 2:\n",
        "   print(\"ganhador\", cont)"
      ],
      "metadata": {
        "colab": {
          "base_uri": "https://localhost:8080/"
        },
        "id": "3fOZyq4r6Bz1",
        "outputId": "e56ed9ba-f5c0-4ce4-8ac3-43701a1edc4e"
      },
      "execution_count": 116,
      "outputs": [
        {
          "output_type": "stream",
          "name": "stdout",
          "text": [
            "ganhador 1003\n",
            "ganhador 1014\n",
            "ganhador 1025\n",
            "ganhador 1036\n",
            "ganhador 1047\n",
            "ganhador 1058\n",
            "ganhador 1069\n",
            "ganhador 1080\n",
            "ganhador 1091\n",
            "ganhador 1102\n",
            "ganhador 1113\n",
            "ganhador 1124\n",
            "ganhador 1135\n",
            "ganhador 1146\n",
            "ganhador 1157\n",
            "ganhador 1168\n",
            "ganhador 1179\n",
            "ganhador 1190\n",
            "ganhador 1201\n",
            "ganhador 1212\n",
            "ganhador 1223\n",
            "ganhador 1234\n",
            "ganhador 1245\n",
            "ganhador 1256\n",
            "ganhador 1267\n",
            "ganhador 1278\n",
            "ganhador 1289\n",
            "ganhador 1300\n",
            "ganhador 1311\n",
            "ganhador 1322\n",
            "ganhador 1333\n",
            "ganhador 1344\n",
            "ganhador 1355\n",
            "ganhador 1366\n",
            "ganhador 1377\n",
            "ganhador 1388\n",
            "ganhador 1399\n",
            "ganhador 1410\n",
            "ganhador 1421\n",
            "ganhador 1432\n",
            "ganhador 1443\n",
            "ganhador 1454\n",
            "ganhador 1465\n",
            "ganhador 1476\n",
            "ganhador 1487\n",
            "ganhador 1498\n",
            "ganhador 1509\n",
            "ganhador 1520\n",
            "ganhador 1531\n",
            "ganhador 1542\n",
            "ganhador 1553\n",
            "ganhador 1564\n",
            "ganhador 1575\n",
            "ganhador 1586\n",
            "ganhador 1597\n",
            "ganhador 1608\n",
            "ganhador 1619\n",
            "ganhador 1630\n",
            "ganhador 1641\n",
            "ganhador 1652\n",
            "ganhador 1663\n",
            "ganhador 1674\n",
            "ganhador 1685\n",
            "ganhador 1696\n",
            "ganhador 1707\n",
            "ganhador 1718\n",
            "ganhador 1729\n",
            "ganhador 1740\n",
            "ganhador 1751\n",
            "ganhador 1762\n",
            "ganhador 1773\n",
            "ganhador 1784\n",
            "ganhador 1795\n",
            "ganhador 1806\n",
            "ganhador 1817\n",
            "ganhador 1828\n",
            "ganhador 1839\n",
            "ganhador 1850\n",
            "ganhador 1861\n",
            "ganhador 1872\n",
            "ganhador 1883\n",
            "ganhador 1894\n",
            "ganhador 1905\n",
            "ganhador 1916\n",
            "ganhador 1927\n",
            "ganhador 1938\n",
            "ganhador 1949\n",
            "ganhador 1960\n",
            "ganhador 1971\n",
            "ganhador 1982\n",
            "ganhador 1993\n"
          ]
        }
      ]
    },
    {
      "cell_type": "markdown",
      "source": [
        "ex 14"
      ],
      "metadata": {
        "id": "_I4QW9xC7S1O"
      }
    },
    {
      "cell_type": "code",
      "source": [
        "for cont in range(10,0, -1):\n",
        "  print(cont)\n",
        "print(\"lançar foguete!\")"
      ],
      "metadata": {
        "colab": {
          "base_uri": "https://localhost:8080/"
        },
        "id": "TfUt1ELP7TvN",
        "outputId": "a1dcc545-56cf-4ab8-baea-d2ec762d6c88"
      },
      "execution_count": 127,
      "outputs": [
        {
          "output_type": "stream",
          "name": "stdout",
          "text": [
            "10\n",
            "9\n",
            "8\n",
            "7\n",
            "6\n",
            "5\n",
            "4\n",
            "3\n",
            "2\n",
            "1\n",
            "lançar foguete!\n"
          ]
        }
      ]
    },
    {
      "cell_type": "markdown",
      "source": [
        "ex 15"
      ],
      "metadata": {
        "id": "a5q9DuJr84p2"
      }
    },
    {
      "cell_type": "code",
      "source": [
        "y = 0\n",
        "for cont in range(30):\n",
        "  x = float(input(\"digite o valor das moedas\"))\n",
        "  y += x\n",
        "  print(y)"
      ],
      "metadata": {
        "id": "tjeB8GG0858X"
      },
      "execution_count": null,
      "outputs": []
    },
    {
      "cell_type": "markdown",
      "source": [
        "ex 16"
      ],
      "metadata": {
        "id": "f1XzIHbh9cnn"
      }
    },
    {
      "cell_type": "code",
      "source": [
        "x = 0\n",
        "\n",
        "for cont in range(1, 6):\n",
        "    y = float(input(f\"Digite o peso do boi {cont}: \"))\n",
        "    if y > x:\n",
        "        x = y\n",
        "\n",
        "print(f\"o boi mais pesado pesa {x} kg.\")\n"
      ],
      "metadata": {
        "colab": {
          "base_uri": "https://localhost:8080/"
        },
        "id": "6I-R5LYf9dnR",
        "outputId": "2909a829-4daa-44e5-cfb5-bc024b474c8e"
      },
      "execution_count": 134,
      "outputs": [
        {
          "output_type": "stream",
          "name": "stdout",
          "text": [
            "Digite o peso do boi 1: 10\n",
            "Digite o peso do boi 2: 23\n",
            "Digite o peso do boi 3: 56\n",
            "Digite o peso do boi 4: 90\n",
            "Digite o peso do boi 5: 22\n",
            "o boi mais pesado pesa 90.0 kg.\n"
          ]
        }
      ]
    },
    {
      "cell_type": "markdown",
      "source": [
        "ex 17"
      ],
      "metadata": {
        "id": "q_NgAH0xB1aA"
      }
    },
    {
      "cell_type": "code",
      "source": [
        "salario = float(input(\"Digite o salário do funcionário em 1995: \"))\n",
        "x = 1995\n",
        "y = 2025\n",
        "a = 1.5 / 100\n",
        "\n",
        "salario += salario * a\n",
        "\n",
        "for ano in range(1997, y + 1):\n",
        "    a *= 2\n",
        "    aumento = salario * a\n",
        "    salario += aumento\n",
        "\n",
        "print(f\"O salário do funcionário em {y} é R$ {salario:.2f}\")\n",
        "\n"
      ],
      "metadata": {
        "colab": {
          "base_uri": "https://localhost:8080/"
        },
        "id": "VHTiBCF1B25z",
        "outputId": "8658a379-b708-4881-8b9f-f9f95f4b804e"
      },
      "execution_count": 139,
      "outputs": [
        {
          "output_type": "stream",
          "name": "stdout",
          "text": [
            "Digite o salário do funcionário em 1995: 0\n",
            "O salário do funcionário em 2025 é R$ 0.00\n"
          ]
        }
      ]
    },
    {
      "cell_type": "markdown",
      "source": [
        "ex 18"
      ],
      "metadata": {
        "id": "md8Ex-8vEpfg"
      }
    },
    {
      "cell_type": "code",
      "source": [
        "x = 0\n",
        "\n",
        "for cont in range(1, 11):\n",
        "    y = int(input(f\"Digite a quantidade em estoque do produto {cont}: \"))\n",
        "    x += y\n",
        "\n",
        "print(f\"\\nO total de produtos em estoque é: {x}\")\n"
      ],
      "metadata": {
        "colab": {
          "base_uri": "https://localhost:8080/"
        },
        "id": "mxeStL6kEqrB",
        "outputId": "7e76d832-42c5-4640-c881-632811acab44"
      },
      "execution_count": 140,
      "outputs": [
        {
          "output_type": "stream",
          "name": "stdout",
          "text": [
            "Digite a quantidade em estoque do produto 1: 20\n",
            "Digite a quantidade em estoque do produto 2: 23\n",
            "Digite a quantidade em estoque do produto 3: 2\n",
            "Digite a quantidade em estoque do produto 4: 3\n",
            "Digite a quantidade em estoque do produto 5: 6\n",
            "Digite a quantidade em estoque do produto 6: 5\n",
            "Digite a quantidade em estoque do produto 7: 8\n",
            "Digite a quantidade em estoque do produto 8: 7\n",
            "Digite a quantidade em estoque do produto 9: 1\n",
            "Digite a quantidade em estoque do produto 10: 9\n",
            "\n",
            "O total de produtos em estoque é: 84\n"
          ]
        }
      ]
    },
    {
      "cell_type": "markdown",
      "source": [
        "ex 19"
      ],
      "metadata": {
        "id": "GzKJMJELFBVh"
      }
    },
    {
      "cell_type": "code",
      "source": [
        "soma = 0\n",
        "maior = 0\n",
        "menor = 10000000\n",
        "\n",
        "for i in range(1, 8):\n",
        "  temp = float(input(f\"Digite a temperatura do dia {i}: \"))\n",
        "  if temp > maior:\n",
        "    maior = temp\n",
        "  if temp < menor:\n",
        "    menor = temp\n",
        "  soma += temp\n",
        "media = soma / 7\n",
        "\n",
        "print()\n",
        "print(f\"Soma das temperaturas: {soma:.2f}°C\")\n",
        "print(f\"Média das temperaturas: {media:.2f}°C\")\n",
        "print(f\"Maior temperatura: {maior}°C\")\n",
        "print(f\"Menor temperatura: {menor}°C\")"
      ],
      "metadata": {
        "colab": {
          "base_uri": "https://localhost:8080/"
        },
        "id": "frvasJECErDv",
        "outputId": "4b74c669-7349-4c5b-cb55-72a43fbaf64f"
      },
      "execution_count": 150,
      "outputs": [
        {
          "output_type": "stream",
          "name": "stdout",
          "text": [
            "Digite a temperatura do dia 1: 10\n",
            "Digite a temperatura do dia 2: 13\n",
            "Digite a temperatura do dia 3: 52\n",
            "Digite a temperatura do dia 4: 95\n",
            "Digite a temperatura do dia 5: 34\n",
            "Digite a temperatura do dia 6: 55\n",
            "Digite a temperatura do dia 7: 87\n",
            "\n",
            "Soma das temperaturas: 346.00°C\n",
            "Média das temperaturas: 49.43°C\n",
            "Maior temperatura: 95.0°C\n",
            "Menor temperatura: 10.0°C\n"
          ]
        }
      ]
    },
    {
      "cell_type": "markdown",
      "source": [
        "ex 20"
      ],
      "metadata": {
        "id": "BZWM1rZ4FCbb"
      }
    },
    {
      "cell_type": "code",
      "source": [
        "for cont in range(1, 101):\n",
        "    if cont % 3 == 0 and cont % 5 == 0:\n",
        "        print(\"FizzBuzz\")\n",
        "    elif cont % 3 == 0:\n",
        "        print(\"Fizz\")\n",
        "    elif cont % 5 == 0:\n",
        "        print(\"Buzz\")\n",
        "    else:\n",
        "        print(cont)\n"
      ],
      "metadata": {
        "colab": {
          "base_uri": "https://localhost:8080/"
        },
        "id": "hVvE4mYsFDzc",
        "outputId": "55387224-b299-4707-92ed-bddede37d43f"
      },
      "execution_count": 143,
      "outputs": [
        {
          "output_type": "stream",
          "name": "stdout",
          "text": [
            "1\n",
            "2\n",
            "Fizz\n",
            "4\n",
            "Buzz\n",
            "Fizz\n",
            "7\n",
            "8\n",
            "Fizz\n",
            "Buzz\n",
            "11\n",
            "Fizz\n",
            "13\n",
            "14\n",
            "FizzBuzz\n",
            "16\n",
            "17\n",
            "Fizz\n",
            "19\n",
            "Buzz\n",
            "Fizz\n",
            "22\n",
            "23\n",
            "Fizz\n",
            "Buzz\n",
            "26\n",
            "Fizz\n",
            "28\n",
            "29\n",
            "FizzBuzz\n",
            "31\n",
            "32\n",
            "Fizz\n",
            "34\n",
            "Buzz\n",
            "Fizz\n",
            "37\n",
            "38\n",
            "Fizz\n",
            "Buzz\n",
            "41\n",
            "Fizz\n",
            "43\n",
            "44\n",
            "FizzBuzz\n",
            "46\n",
            "47\n",
            "Fizz\n",
            "49\n",
            "Buzz\n",
            "Fizz\n",
            "52\n",
            "53\n",
            "Fizz\n",
            "Buzz\n",
            "56\n",
            "Fizz\n",
            "58\n",
            "59\n",
            "FizzBuzz\n",
            "61\n",
            "62\n",
            "Fizz\n",
            "64\n",
            "Buzz\n",
            "Fizz\n",
            "67\n",
            "68\n",
            "Fizz\n",
            "Buzz\n",
            "71\n",
            "Fizz\n",
            "73\n",
            "74\n",
            "FizzBuzz\n",
            "76\n",
            "77\n",
            "Fizz\n",
            "79\n",
            "Buzz\n",
            "Fizz\n",
            "82\n",
            "83\n",
            "Fizz\n",
            "Buzz\n",
            "86\n",
            "Fizz\n",
            "88\n",
            "89\n",
            "FizzBuzz\n",
            "91\n",
            "92\n",
            "Fizz\n",
            "94\n",
            "Buzz\n",
            "Fizz\n",
            "97\n",
            "98\n",
            "Fizz\n",
            "Buzz\n"
          ]
        }
      ]
    }
  ]
}